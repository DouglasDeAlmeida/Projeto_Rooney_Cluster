{
  "nbformat": 4,
  "nbformat_minor": 0,
  "metadata": {
    "colab": {
      "name": "Projeto2_Rooney.ipynb",
      "private_outputs": true,
      "provenance": []
    },
    "kernelspec": {
      "name": "python3",
      "display_name": "Python 3"
    },
    "language_info": {
      "name": "python"
    }
  },
  "cells": [
    {
      "cell_type": "markdown",
      "metadata": {
        "id": "i-wEtqvUQ5O3"
      },
      "source": [
        "**INTEGRANTES:**\n",
        "\n",
        "DOUGLAS SILVA DE ALMEIDA\n",
        "\n",
        "CARLOS DINART SANTOS DE MORAIS JUNIOR"
      ]
    },
    {
      "cell_type": "code",
      "metadata": {
        "id": "Za50Vj-tnjnJ"
      },
      "source": [
        "!pip install biokit"
      ],
      "execution_count": null,
      "outputs": []
    },
    {
      "cell_type": "code",
      "metadata": {
        "id": "HNI3sk4plopK"
      },
      "source": [
        "import matplotlib.pyplot as plt\n",
        "import pandas as pd\n",
        "import numpy as np\n",
        "from biokit.viz import corrplot\n",
        "\n",
        "import missingno as msno\n",
        "import seaborn as sns\n",
        "import plotly.express as px\n",
        "import plotly.graph_objects as go\n",
        "from plotly.subplots import make_subplots\n",
        "import warnings\n",
        "from sklearn.cluster import KMeans\n",
        "warnings.filterwarnings('ignore')"
      ],
      "execution_count": null,
      "outputs": []
    },
    {
      "cell_type": "code",
      "metadata": {
        "id": "v6mUOAjgmUxS"
      },
      "source": [
        "df = pd.read_csv('/content/drive/MyDrive/Data Science/DataMining/dados.csv').drop('Unnamed: 0', axis=1)\n",
        "df.head(5)"
      ],
      "execution_count": null,
      "outputs": []
    },
    {
      "cell_type": "code",
      "metadata": {
        "id": "dcLppM-ymabE"
      },
      "source": [
        "df.describe()"
      ],
      "execution_count": null,
      "outputs": []
    },
    {
      "cell_type": "code",
      "metadata": {
        "id": "2J7uCZe42dHE"
      },
      "source": [
        "df.info()"
      ],
      "execution_count": null,
      "outputs": []
    },
    {
      "cell_type": "markdown",
      "metadata": {
        "id": "DRsr2kqwHC5Q"
      },
      "source": [
        "150 linhas da coluna inadimplente estão como NaN"
      ]
    },
    {
      "cell_type": "code",
      "metadata": {
        "id": "4QHxpKsJHNv5"
      },
      "source": [
        "df[df.Inadimplente.isna()]"
      ],
      "execution_count": null,
      "outputs": []
    },
    {
      "cell_type": "code",
      "metadata": {
        "id": "Lciz5TjUH17J"
      },
      "source": [
        "df[df.Inadimplente==1]"
      ],
      "execution_count": null,
      "outputs": []
    },
    {
      "cell_type": "code",
      "metadata": {
        "id": "qD61F2bMG9_H"
      },
      "source": [
        "df.isna().sum()"
      ],
      "execution_count": null,
      "outputs": []
    },
    {
      "cell_type": "code",
      "metadata": {
        "id": "4uBCQJRIah_q"
      },
      "source": [
        "df.dropna(inplace=True)"
      ],
      "execution_count": null,
      "outputs": []
    },
    {
      "cell_type": "code",
      "metadata": {
        "id": "k1a9pHVZ8zCn"
      },
      "source": [
        "df.drop('ID do cliente', axis=1, inplace=True)"
      ],
      "execution_count": null,
      "outputs": []
    },
    {
      "cell_type": "markdown",
      "metadata": {
        "id": "_j7eLgIMnw5o"
      },
      "source": [
        "##Verificando a Correlação"
      ]
    },
    {
      "cell_type": "code",
      "metadata": {
        "id": "vX3o4AMim92a"
      },
      "source": [
        "df.corr()"
      ],
      "execution_count": null,
      "outputs": []
    },
    {
      "cell_type": "code",
      "metadata": {
        "id": "r-q25b4Eawfa"
      },
      "source": [
        ""
      ],
      "execution_count": null,
      "outputs": []
    },
    {
      "cell_type": "code",
      "metadata": {
        "id": "8kPaqzZyawfb"
      },
      "source": [
        "matriz_corr = df.corr()\n",
        "corr_graf = corrplot.Corrplot(matriz_corr)\n",
        "corr_graf.plot(upper = 'ellipse', fontsize = 'x-large')\n",
        "fig = plt.gcf()\n",
        "fig.set_size_inches(13,8)\n",
        "fig.show()"
      ],
      "execution_count": null,
      "outputs": []
    },
    {
      "cell_type": "markdown",
      "metadata": {
        "id": "qSme63GMFuLK"
      },
      "source": [
        "**Em azul -> Correlação positiva - se um dado aumenta o outro também aumenta.**\n",
        "\n",
        "**Em vermelho -> Correlação negativa - se um dado aumenta o outro diminui.**"
      ]
    },
    {
      "cell_type": "markdown",
      "metadata": {
        "id": "0VMlUCOqD_sG"
      },
      "source": [
        "**O Que é possivel especular de acordo com estas correlações:**\n",
        "\n",
        "\n",
        "- Renda & Anos de emprego\n",
        "  - quanto mais experiência no emprego maior a renda\n",
        "- Renda & Idade\n",
        "  - quanto mais velho maior a renda\n",
        "- Renda & Educação (levemente) \n",
        "  \n",
        "  - Provavelmente os dados são de um país com uma menor desigualde social, visto que educação tem apenas um leve impacto na renda.\n",
        "\n",
        "- Renda & Dividas\n",
        "\n",
        "  - Quem tem dívidas maiores tb recebe mais\n",
        "\n",
        "- Dívida do Cartão & debt/income ratio\n",
        "  - quem tem mais dívidas é mais propenso a dever mais que arrecada\n",
        "- Dívida do Cartão & anos de emprego\n",
        "  - Quem trabalha a mais tempo contraí mais dívidas"
      ]
    },
    {
      "cell_type": "markdown",
      "metadata": {
        "id": "cSJsNStIiF9U"
      },
      "source": [
        "###Análise Exploratória"
      ]
    },
    {
      "cell_type": "code",
      "metadata": {
        "id": "HlcoSwPFEyM4"
      },
      "source": [
        "\n",
        "\n",
        "def plot_perc(coluna, df):\n",
        "  numero_total_de_dados = df.shape[0]\n",
        "  plt.figure(figsize=(20,8))\n",
        "  g = sns.countplot(x=coluna, data= df,orient='h')\n",
        "  g.set_ylabel('Distribuição de idades em %', fontsize=17)\n",
        "  sizes = []\n",
        "\n",
        "  for p in g.patches:\n",
        "    height = p.get_height()\n",
        "    sizes.append(height)\n",
        "    g.text(p.get_x() + p.get_width()/1.6, height+1,\n",
        "           '{:1.2f}%'.format(height/numero_total_de_dados*100),\n",
        "           ha = 'center', va='bottom', fontsize=12)\n",
        "    g.set_ylim(0,max(sizes)*1.1)\n",
        "    \n"
      ],
      "execution_count": null,
      "outputs": []
    },
    {
      "cell_type": "code",
      "metadata": {
        "id": "37j8DG-D_qpQ"
      },
      "source": [
        "plot_perc('Anos de emprego', df)"
      ],
      "execution_count": null,
      "outputs": []
    },
    {
      "cell_type": "markdown",
      "metadata": {
        "id": "a9cA-c3S_4cu"
      },
      "source": [
        "**Estariam os desempregados incluídos em 0 anos de emprego?**"
      ]
    },
    {
      "cell_type": "code",
      "metadata": {
        "id": "1Iyio_qJiI-T"
      },
      "source": [
        "fig = px.histogram(df, x=\"Inadimplente\", color=\"Anos de emprego\", barmode=\"group\", title=\"<b>INADIMPLENCIA POR ANOS DE EMPREGO<b>\")\n",
        "fig.update_layout(width=1080, height=700, bargap=0.1)\n",
        "fig.show()"
      ],
      "execution_count": null,
      "outputs": []
    },
    {
      "cell_type": "markdown",
      "metadata": {
        "id": "k8M5HclSn0Q3"
      },
      "source": [
        "###Distribuição de clientes por idade"
      ]
    },
    {
      "cell_type": "code",
      "metadata": {
        "id": "rA1wUb_In2B_"
      },
      "source": [
        "fig = px.histogram(df, x=\"Idade\", barmode=\"group\", title=\"<b>Distribuição de clientes por idade<b>\",)\n",
        "fig.update_layout(bargap=0.1)\n",
        "fig.show()"
      ],
      "execution_count": null,
      "outputs": []
    },
    {
      "cell_type": "code",
      "metadata": {
        "id": "CKedzUdRywpU"
      },
      "source": [
        "#fazendo o gráfico com o percentual de cada idade\n"
      ],
      "execution_count": null,
      "outputs": []
    },
    {
      "cell_type": "code",
      "metadata": {
        "id": "HuhAjydF1BbG"
      },
      "source": [
        "plot_perc('Idade', df)"
      ],
      "execution_count": null,
      "outputs": []
    },
    {
      "cell_type": "markdown",
      "metadata": {
        "id": "u2lKdCOa8k-9"
      },
      "source": [
        "###Percentual de inadimplentes"
      ]
    },
    {
      "cell_type": "code",
      "metadata": {
        "id": "IZfR0rcC3Vyq"
      },
      "source": [
        "df.Inadimplente.value_counts()"
      ],
      "execution_count": null,
      "outputs": []
    },
    {
      "cell_type": "code",
      "metadata": {
        "id": "8wia7OPY4r12"
      },
      "source": [
        "c_labels = ['Não', 'Sim']\n",
        "fig = make_subplots(rows=1, cols=2, specs=[[{'type':'domain'}, {'type':'domain'}]])\n",
        "fig.add_trace(go.Pie(labels=c_labels, values=df['Inadimplente'].value_counts(), name=\"Inadimplente\"))\n",
        "fig.update_traces(hole=.4, hoverinfo=\"label+percent+name\", textfont_size=16)\n",
        "fig.update_layout(\n",
        "    title_text=\"Porcentagem de Inadimplentes\",\n",
        "    annotations=[dict(text='Inadimplente', font_size=20, showarrow=False)])\n",
        "fig.show()"
      ],
      "execution_count": null,
      "outputs": []
    },
    {
      "cell_type": "code",
      "metadata": {
        "id": "L93a59bb8Olt"
      },
      "source": [
        ""
      ],
      "execution_count": null,
      "outputs": []
    },
    {
      "cell_type": "markdown",
      "metadata": {
        "id": "uVkYwbho8qA-"
      },
      "source": [
        "##Normalização dos dados"
      ]
    },
    {
      "cell_type": "code",
      "metadata": {
        "id": "6qfeOiSZ8sXF"
      },
      "source": [
        "from sklearn.preprocessing import StandardScaler"
      ],
      "execution_count": null,
      "outputs": []
    },
    {
      "cell_type": "code",
      "metadata": {
        "id": "OIJMlQQ1F6fu"
      },
      "source": [
        "colunas = df.columns"
      ],
      "execution_count": null,
      "outputs": []
    },
    {
      "cell_type": "code",
      "metadata": {
        "id": "deNBoJ2hFRif"
      },
      "source": [
        "scaler = StandardScaler()\n",
        "df_std = scaler.fit_transform(df)\n",
        "data =pd.DataFrame(df_std, columns=colunas)"
      ],
      "execution_count": null,
      "outputs": []
    },
    {
      "cell_type": "code",
      "metadata": {
        "id": "cvlefoQCGoo_"
      },
      "source": [
        "data"
      ],
      "execution_count": null,
      "outputs": []
    },
    {
      "cell_type": "markdown",
      "metadata": {
        "id": "PKl0y4Vd3Urd"
      },
      "source": [
        "###Elbow"
      ]
    },
    {
      "cell_type": "code",
      "metadata": {
        "id": "aP9-omC0WaoC"
      },
      "source": [
        "def calcular_wcss(data):\n",
        "  wcss= []\n",
        "  for k in range(1,9):\n",
        "    kmeans = KMeans(n_clusters=k)\n",
        "    kmeans.fit(X=data)\n",
        "    #data['Clusters'] = kmeans.labels_\n",
        "    wcss.append(kmeans.inertia_)\n",
        "\n",
        "  return wcss"
      ],
      "execution_count": null,
      "outputs": []
    },
    {
      "cell_type": "code",
      "metadata": {
        "id": "aeYHmXorIffA"
      },
      "source": [
        "soma_dos_quadrados = calcular_wcss(data)"
      ],
      "execution_count": null,
      "outputs": []
    },
    {
      "cell_type": "code",
      "metadata": {
        "id": "9wFRdb9EWaoD"
      },
      "source": [
        "#plotando o gráfico\n",
        "plt.figure(figsize=(10,5))\n",
        "plt.plot(range(1,9),soma_dos_quadrados)\n",
        "plt.xlabel('Número de Clusters')\n",
        "plt.show()"
      ],
      "execution_count": null,
      "outputs": []
    },
    {
      "cell_type": "code",
      "metadata": {
        "id": "0KrNGYGpWaoD"
      },
      "source": [
        "import math \n",
        "def numero_otimo_clusters(wcss):\n",
        "  x1, y1 = 2, wcss[0]\n",
        "  x2,y2 = 20, wcss[len(wcss)-1]\n",
        "\n",
        "  distancia = []\n",
        "  for i in range(len(wcss)):\n",
        "    x0 = i+2\n",
        "    y0 = wcss[i]\n",
        "    numerador = abs((y2-y1)*x0 - (x2-x1)*y0 + x2*y1 - y2*x1)\n",
        "    denominador = math.sqrt((y2-y1)**2 + (x2-x1)**2)\n",
        "    distancia.append(numerador/denominador)\n",
        "    return distancia.index(max(distancia)) +2"
      ],
      "execution_count": null,
      "outputs": []
    },
    {
      "cell_type": "code",
      "metadata": {
        "id": "rfl2Tv70YW1y"
      },
      "source": [
        "def elbow(data):\n",
        "  \"\"\" INPUT: pd.Series\"\"\"\n",
        "  k = calcular_wcss(data)\n",
        "  n_cluster = numero_otimo_clusters(k)\n",
        "  return n_cluster"
      ],
      "execution_count": null,
      "outputs": []
    },
    {
      "cell_type": "code",
      "metadata": {
        "id": "Vz4wy3cgZdjC"
      },
      "source": [
        "elbow(data)"
      ],
      "execution_count": null,
      "outputs": []
    },
    {
      "cell_type": "markdown",
      "metadata": {
        "id": "Ejb8_-1JXw1z"
      },
      "source": [
        "#plotando o cluster"
      ]
    },
    {
      "cell_type": "code",
      "metadata": {
        "id": "FT61iRnyXzTh"
      },
      "source": [
        "n_clust = elbow(data)\n",
        "agrupador = KMeans(n_clusters=n_clust)\n",
        "agrupador.fit(data)"
      ],
      "execution_count": null,
      "outputs": []
    },
    {
      "cell_type": "code",
      "metadata": {
        "id": "DoW-tweXZB2n"
      },
      "source": [
        "labels= agrupador.labels_\n",
        "data['Clusters'] = labels"
      ],
      "execution_count": null,
      "outputs": []
    },
    {
      "cell_type": "code",
      "metadata": {
        "id": "zghc7zOEazYp"
      },
      "source": [
        "data"
      ],
      "execution_count": null,
      "outputs": []
    },
    {
      "cell_type": "code",
      "metadata": {
        "id": "uTACNLsxpkec"
      },
      "source": [
        "df_alternativo = data.drop(['Educação', 'Inadimplente', 'Clusters'], axis=1)\n",
        "df_alternativo"
      ],
      "execution_count": null,
      "outputs": []
    },
    {
      "cell_type": "code",
      "metadata": {
        "id": "EGwVxFPbdV6J"
      },
      "source": [
        "\n",
        "def plot_scatter(x,y):\n",
        "  fig = go.Figure()\n",
        "  fig.add_trace(go.Scatter(x = x, y = y,\n",
        "                            mode = 'markers',\n",
        "                          text=labels,\n",
        "                          marker= dict(color=labels.astype(np.float))))\n",
        "\n",
        "  fig.update_layout(\n",
        "      title=\"Cluster com 2 grupos\",\n",
        "      xaxis_title=f\"{x.name}\",\n",
        "      yaxis_title=f\"{y.name}\"\n",
        "      )\n",
        "  fig.show()"
      ],
      "execution_count": null,
      "outputs": []
    },
    {
      "cell_type": "code",
      "metadata": {
        "id": "k4cjNfgRnZSu"
      },
      "source": [
        "plot_scatter(df['Dívida do cartão'], df['Renda'])"
      ],
      "execution_count": null,
      "outputs": []
    },
    {
      "cell_type": "code",
      "metadata": {
        "id": "tEmSt6PZn3ug"
      },
      "source": [
        "plot_scatter(df['Educação'], df['Renda'])"
      ],
      "execution_count": null,
      "outputs": []
    },
    {
      "cell_type": "code",
      "metadata": {
        "id": "HAdyid-aCRZk"
      },
      "source": [
        "plot_scatter(df['Outras dívidas'], df['Razão débito-renda'])"
      ],
      "execution_count": null,
      "outputs": []
    },
    {
      "cell_type": "code",
      "metadata": {
        "id": "z2Lr6t-TCVRO"
      },
      "source": [
        "plot_scatter(df['Renda'], df['Razão débito-renda'])"
      ],
      "execution_count": null,
      "outputs": []
    },
    {
      "cell_type": "code",
      "metadata": {
        "id": "jHggTUm4Czgf"
      },
      "source": [
        "\n",
        "plot_scatter(df['Dívida do cartão'], df['Razão débito-renda'])"
      ],
      "execution_count": null,
      "outputs": []
    },
    {
      "cell_type": "code",
      "metadata": {
        "id": "rpXBnIt5DmiG"
      },
      "source": [
        ""
      ],
      "execution_count": null,
      "outputs": []
    },
    {
      "cell_type": "markdown",
      "metadata": {
        "id": "qUyah5UHKNEK"
      },
      "source": [
        "##Centroide"
      ]
    },
    {
      "cell_type": "code",
      "metadata": {
        "id": "gk0O_Oj9KZMU"
      },
      "source": [
        "data"
      ],
      "execution_count": null,
      "outputs": []
    },
    {
      "cell_type": "code",
      "metadata": {
        "id": "XJFApRD6Kg0x"
      },
      "source": [
        "df= scaler.inverse_transform(data.drop('Clusters', axis=1))"
      ],
      "execution_count": null,
      "outputs": []
    },
    {
      "cell_type": "code",
      "metadata": {
        "id": "DVaXfanOKuFA"
      },
      "source": [
        "df=pd.DataFrame(df, columns=['Idade', 'Educação', 'Anos de emprego', 'Renda',\n",
        "       'Dívida do cartão', 'Outras dívidas', 'Inadimplente',\n",
        "       'Razão débito-renda'])\n",
        "df['Grupos'] = data['Clusters']"
      ],
      "execution_count": null,
      "outputs": []
    },
    {
      "cell_type": "code",
      "metadata": {
        "id": "Zpsm2TzIKOD_"
      },
      "source": [
        "df.groupby('Grupos').mean()"
      ],
      "execution_count": null,
      "outputs": []
    },
    {
      "cell_type": "markdown",
      "metadata": {
        "id": "dupa_Zs3KcPQ"
      },
      "source": [
        "Grupo 0:\n",
        "\n",
        "- Alta renda\n",
        "- Maior Educação\n",
        "- Possuem mais idade\n",
        "- Mais tempo no trabalho (possivelmente já possuem carreiras estáveis)\n",
        "\n",
        "   **⬇ CONSEQUENTEMENTE ⬇**\n",
        "\n",
        "- Contraem mais dívidas\n",
        "- São mais inadimplentes\n",
        "- São clientes de alto lucro e maior risco\n",
        "\n",
        "\n"
      ]
    },
    {
      "cell_type": "markdown",
      "metadata": {
        "id": "yipzRt-UMG7e"
      },
      "source": [
        "Grupo 1:\n",
        "\n",
        "- Mais jovens\n",
        "- Menos tempo de emprego\n",
        "- Menos propensos a fazerem dívidas e comprar produtos caros.\n",
        "- São clientes de baixo lucro, porém, menor risco."
      ]
    },
    {
      "cell_type": "code",
      "metadata": {
        "id": "vzaZO8xqNQfp"
      },
      "source": [
        "\n",
        "grupo_0 = df[df['Grupos']==0]\n",
        "grupo_1=df[df['Grupos']==1]"
      ],
      "execution_count": null,
      "outputs": []
    },
    {
      "cell_type": "code",
      "metadata": {
        "id": "DTWHKUI2N3BI"
      },
      "source": [
        "plot_perc('Idade', grupo_0)"
      ],
      "execution_count": null,
      "outputs": []
    },
    {
      "cell_type": "code",
      "metadata": {
        "id": "SmcTkMdkN7kQ"
      },
      "source": [
        "plot_perc('Idade', grupo_1)"
      ],
      "execution_count": null,
      "outputs": []
    },
    {
      "cell_type": "code",
      "metadata": {
        "id": "LPwFAF_lOCQA"
      },
      "source": [
        "plot_perc('Anos de emprego', grupo_1)"
      ],
      "execution_count": null,
      "outputs": []
    },
    {
      "cell_type": "code",
      "metadata": {
        "id": "HgwWsVWpR0IG"
      },
      "source": [
        "plot_perc('Anos de emprego', grupo_0)"
      ],
      "execution_count": null,
      "outputs": []
    },
    {
      "cell_type": "code",
      "metadata": {
        "id": "hc4Bg336R5Yw"
      },
      "source": [
        ""
      ],
      "execution_count": null,
      "outputs": []
    }
  ]
}